{
 "cells": [
  {
   "cell_type": "code",
   "execution_count": 1,
   "id": "86e48a45",
   "metadata": {},
   "outputs": [],
   "source": [
    "import numpy as np\n",
    "import matplotlib.pyplot as plt\n",
    "import torch\n",
    "import cv2\n",
    "import torchvision.transforms as transforms"
   ]
  },
  {
   "cell_type": "code",
   "execution_count": 2,
   "id": "3751ef4d",
   "metadata": {},
   "outputs": [],
   "source": [
    "image=cv2.imread(\"E:/nSm/tempMatchAlgo/BBS/data/images/box.png\")\n",
    "template=cv2.imread(\"E:/nSm/tempMatchAlgo/BBS/data/templates/temp.png\")"
   ]
  },
  {
   "cell_type": "code",
   "execution_count": 3,
   "id": "ac813236",
   "metadata": {},
   "outputs": [
    {
     "data": {
      "text/plain": [
       "<matplotlib.image.AxesImage at 0x21875561a90>"
      ]
     },
     "execution_count": 3,
     "metadata": {},
     "output_type": "execute_result"
    },
    {
     "data": {
      "image/png": "[encoded data removed]",
      "text/plain": [
       "<Figure size 640x480 with 1 Axes>"
      ]
     },
     "metadata": {},
     "output_type": "display_data"
    }
   ],
   "source": [
    "%matplotlib inline\n",
    "plt.imshow(template)"
   ]
  },
  {
   "cell_type": "code",
   "execution_count": 4,
   "id": "5e13b790",
   "metadata": {},
   "outputs": [],
   "source": [
    "class FeatureEx():\n",
    "    def __init__(self,model,use_cuda=True):\n",
    "        self.model=model[:17]\n",
    "        self.use_cuda=use_cuda\n",
    "# two features     \n",
    "        self.feature1=None\n",
    "        self.feature2=None\n",
    "        if use_cuda:\n",
    "            self.model.cuda()\n",
    "#         using vgg19 pretrained weights on imageNet\n",
    "#         we only use the 17 first layers (4 convolutions with pooling  and relu as an activation function)\n",
    "        for param in self.model.parameters():\n",
    "            param.requires_grad = False\n",
    "        self.model[2].register_module_forward_hook(self.saveFeature1)\n",
    "        self.model[16].register_module_forward_hook(self.saveFeature2)\n",
    "        \n",
    "    \n",
    "    def saveFeature1(self,model,inputs,outputs):\n",
    "        self.feature1=model.detach(outputs)\n",
    "    \n",
    "    def saveFeature2(self,model,inputs,outputs):\n",
    "        self.feature2=model.detach(outputs)\n",
    "    \n",
    "    def __call__(self,inputs,ft12=True):\n",
    "        if self.use_cuda:\n",
    "            inputs = inputs.cuda()\n",
    "        self.model(inputs)\n",
    "        if ft12:\n",
    "#             we resize the second feature using bilinear interpolation\n",
    "            self.feature2 = F.interpolate(self.feature2, size=(self.feature1.size()[2], self.feature1.size()[3]), mode='bilinear', align_corners=True)\n",
    "        else:\n",
    "            self.feature1 = F.interpolate(self.feature1, size=(self.feature2.size()[2], self.feature2.size()[3]), mode='bilinear', align_corners=True)\n",
    "            \n",
    "        \n",
    "        return torch.cat((self.feature1, self.feature2), dim=1)        "
   ]
  },
  {
   "cell_type": "code",
   "execution_count": 5,
   "id": "50e9751a",
   "metadata": {},
   "outputs": [],
   "source": [
    "class NormalisationLayer():\n",
    "    def __call__(self, x1, x2):\n",
    "        bs, _ , H, W = x1.size()\n",
    "        _, _, h, w = x2.size()\n",
    "        eps = 1e-12\n",
    "        x1 = x1.view(bs, -1, H*W)\n",
    "        x2 = x2.view(bs, -1, h*w)\n",
    "        concat = torch.cat((x1, x2), dim=2)\n",
    "        x_mean = torch.mean(concat, dim=2, keepdim=True)\n",
    "        x_std = torch.std(concat, dim=2, keepdim=True)\n",
    "        x1 = (x1 - x_mean) / (x_std + eps)\n",
    "        x2 = (x2 - x_mean) / (x_std + eps)\n",
    "        x1 = x1.view(bs, -1, H, W)\n",
    "        x2 = x2.view(bs, -1, h, w)\n",
    "        return [x1, x2]    "
   ]
  },
  {
   "cell_type": "code",
   "execution_count": null,
   "id": "55f232fe",
   "metadata": {},
   "outputs": [],
   "source": [
    "class Qatm():\n",
    "    def __init__(self,alpha):\n",
    "        self.alpha=alpha\n",
    "    def __call__(self,inputs):\n",
    "        batch_size, ref_row, ref_col, qry_row, qry_col=inputs.size()\n",
    "        inputs=inputs.view(batch_size, ref_row*ref_col, qry_row*qry_col)*self.alpha\n",
    "        \n",
    "        x_ref=inputs-torch.max(inputs,dim=1,keepdims=True)[0]\n",
    "        x_qry=inputs-torch.max(inputs,dim=2,keepdims=True)[0]\n",
    "        \n",
    "        confRef=torch.nn.functional.softmax(x_ref)\n",
    "        confTemp=torch.nn.functional.softmax(x_qry)\n",
    "        \n",
    "        confidence=torch.sqrt(confRef*confTemp)\n",
    "        "
   ]
  },
  {
   "cell_type": "code",
   "execution_count": null,
   "id": "10728c07",
   "metadata": {},
   "outputs": [],
   "source": [
    "class CreateModel():\n",
    "    def __init__(self,model,alpha,use_cuda=True):\n",
    "        self.featureEx=FeatureEx(model,use_cuda)\n",
    "        self.NormalisationLayer=NormalisationLayer()\n",
    "        self.alpha=alpha\n",
    "        self.imageFeature=None\n",
    "        self.imageFeatureName=None\n",
    "        \n",
    "    def __call__(self,template,image,image_name):\n",
    "        self.templateFeature=self.featureEx(template)\n",
    "        if self.imageFeatureName is not image_name:\n",
    "            self.imageFeature=self.featureEx(image)\n",
    "            self.imageFeatureName=image_name\n",
    "    ####\n",
    "        imageFeature,templateFeature=self.NormalisationLayer(imageFeature,templateFeature)\n",
    "    ### \n",
    "        self.imageFeature=torch.nn.functional.normalize(self.imageFeature, p=2.0, dim=1)\n",
    "        self.templateFeature=torch.nn.functional.normalize(self.templateFeature, p=2.0, dim=1)\n",
    "        \n",
    "        inp=torch.einsum('xabc,xdec->xabde',self.imageFeature,self.templateFeature)\n",
    "        \n",
    "        \n",
    "        \n",
    "#         batchSizeTemp = self.templateFeature.size()[0]\n",
    "        \n",
    "#         for i in range(batchSizeTemp):\n",
    "#             templateFeatureComp=torch.unsqueeze(templateFeature[i],dim=0)\n",
    "#             imageFeatueComp=torch.unsqueeze(imageFeature[i],dim=0)\n",
    "            \n",
    "#              #normalisation\n",
    "#             templateFeatureComp=torch.nn.functional.normalize(templateFeatureComp, p=2.0, dim=1)\n",
    "#             imageFeatueComp=torch.nn.functional.normalize(imageFeatueComp, p=2.0, dim=1)\n",
    "\n",
    "#             inp=torch.einsum('xabc,xdec->xabde',imageFeatueComp,templateFeatureComp)\n",
    "            "
   ]
  },
  {
   "cell_type": "code",
   "execution_count": null,
   "id": "b3aa38ac",
   "metadata": {},
   "outputs": [],
   "source": [
    "# torch.einsum('xabc,xdec->xabde',K.l2_normalize(x[0],axis=1),K.l2_normalize(x[1], axis=-1),name=\"cosine_dist\")"
   ]
  },
  {
   "cell_type": "code",
   "execution_count": 39,
   "id": "751f5732",
   "metadata": {},
   "outputs": [
    {
     "name": "stderr",
     "output_type": "stream",
     "text": [
      "C:\\Users\\yasmine\\AppData\\Local\\Temp\\ipykernel_9924\\3160664121.py:12: UserWarning: Implicit dimension choice for softmax has been deprecated. Change the call to include dim=X as an argument.\n",
      "  confRef=torch.nn.functional.softmax(x_ref)\n",
      "C:\\Users\\yasmine\\AppData\\Local\\Temp\\ipykernel_9924\\3160664121.py:13: UserWarning: Implicit dimension choice for softmax has been deprecated. Change the call to include dim=X as an argument.\n",
      "  confTemp=torch.nn.functional.softmax(x_qry)\n"
     ]
    },
    {
     "data": {
      "text/plain": [
       "(tensor([[[0.8808, 0.2689],\n",
       "          [0.8808, 0.2689],\n",
       "          [0.8808, 0.7311],\n",
       "          [0.1192, 0.7311],\n",
       "          [0.8808, 0.2689],\n",
       "          [0.8808, 0.7311]],\n",
       " \n",
       "         [[0.1192, 0.7311],\n",
       "          [0.1192, 0.7311],\n",
       "          [0.1192, 0.2689],\n",
       "          [0.8808, 0.2689],\n",
       "          [0.1192, 0.7311],\n",
       "          [0.1192, 0.2689]]], dtype=torch.float64),\n",
       " tensor([[[0.8808, 0.5000],\n",
       "          [0.8808, 0.5000],\n",
       "          [0.5000, 0.5000],\n",
       "          [0.5000, 0.9820],\n",
       "          [0.8808, 0.5000],\n",
       "          [0.5000, 0.5000]],\n",
       " \n",
       "         [[0.1192, 0.5000],\n",
       "          [0.1192, 0.5000],\n",
       "          [0.5000, 0.5000],\n",
       "          [0.5000, 0.0180],\n",
       "          [0.1192, 0.5000],\n",
       "          [0.5000, 0.5000]]], dtype=torch.float64))"
      ]
     },
     "execution_count": 39,
     "metadata": {},
     "output_type": "execute_result"
    }
   ],
   "source": [
    "a=torch.tensor([[[[1,1],[2,2]],[[3,3],[4,4]],[[5,5],[6,6]]],[[[1,3],[2,4]],[[3,3],[8,4]],[[5,7],[6,6]]]])\n",
    "a=a.type(torch.DoubleTensor)\n",
    "# a.size(),torch.nn.functional.normalize(a, p=2.0, dim=1)\n",
    "# torch.nn.functional.normalize(a, p=2.0, dim=1),a/torch.norm(a, dim=1, keepdim=True)\n",
    "val,_=torch.max(a, dim=1, keepdim=True)\n",
    "val.size(),a.size()\n",
    "inputs=a\n",
    "batch_size, ref_row, ref_col, qry_row=inputs.size()\n",
    "inputs=inputs.view(batch_size, ref_row*ref_col, qry_row)\n",
    "x_ref=inputs-torch.max(inputs,dim=1,keepdims=True)[0]\n",
    "x_qry=inputs-torch.max(inputs,dim=2,keepdims=True)[0]\n",
    "confRef=torch.nn.functional.softmax(x_ref)\n",
    "confTemp=torch.nn.functional.softmax(x_qry)\n",
    "confRef,confTemp"
   ]
  },
  {
   "cell_type": "code",
   "execution_count": null,
   "id": "b3cc9319",
   "metadata": {},
   "outputs": [],
   "source": []
  }
 ],
 "metadata": {
  "kernelspec": {
   "display_name": "Python 3 (ipykernel)",
   "language": "python",
   "name": "python3"
  },
  "language_info": {
   "codemirror_mode": {
    "name": "ipython",
    "version": 3
   },
   "file_extension": ".py",
   "mimetype": "text/x-python",
   "name": "python",
   "nbconvert_exporter": "python",
   "pygments_lexer": "ipython3",
   "version": "3.9.13"
  }
 },
 "nbformat": 4,
 "nbformat_minor": 5
}
